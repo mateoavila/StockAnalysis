{
 "cells": [
  {
   "cell_type": "markdown",
   "id": "fad63876",
   "metadata": {},
   "source": [
    "# Stock Analysis"
   ]
  },
  {
   "cell_type": "markdown",
   "id": "b92582e9",
   "metadata": {},
   "source": [
    "### setting up resued code "
   ]
  },
  {
   "cell_type": "code",
   "execution_count": 2,
   "id": "1c1231ce",
   "metadata": {},
   "outputs": [],
   "source": [
    "#pip install alpha_vantage\n"
   ]
  },
  {
   "cell_type": "code",
   "execution_count": 3,
   "id": "a598778e",
   "metadata": {},
   "outputs": [],
   "source": [
    "import pandas as pd\n",
    "from alpha_vantage.timeseries import TimeSeries"
   ]
  },
  {
   "cell_type": "code",
   "execution_count": 4,
   "id": "83b2a640",
   "metadata": {},
   "outputs": [],
   "source": [
    "api_key = 'JOAOIVTNEKIG83KH'\n",
    "ts = TimeSeries(key=api_key, output_format='pandas')"
   ]
  },
  {
   "cell_type": "markdown",
   "id": "8f9949af",
   "metadata": {},
   "source": [
    "## Overall Idea\n",
    "I will use the basic idea of buy low sell high \n",
    "\n",
    "in order to do that I will get the average closing price from the last 100 days, the last 30 days and last day on the market. I will use these 3 data points as markers to see how the stock is doing.\n",
    "\n",
    "There are 3 possible outcomes:\n",
    "\n",
    "    -If the 100 day average is greater than the 30 day average I assume it will go up and I will buy when it is low\n",
    "    -If the 100 day average is lower than the 30 day average and the last days closing price was up I assume it is too high and the stock will come down so I will sell high\n",
    "    -If the 30 day average is higher than the 100 day average but the last day was below the 30 day average I cant conclude much so I will either hold if i have it or wait another day.\n"
   ]
  },
  {
   "cell_type": "markdown",
   "id": "1be728ee",
   "metadata": {},
   "source": [
    "### Testing NKE "
   ]
  },
  {
   "cell_type": "code",
   "execution_count": 5,
   "id": "5a3c5ff9",
   "metadata": {},
   "outputs": [
    {
     "name": "stdout",
     "output_type": "stream",
     "text": [
      "Nike 100 day average: 161.67290000000003\n",
      "Nike 30 day average: 161.77533333333335\n",
      "Sell NKE\n"
     ]
    }
   ],
   "source": [
    "data, meta_data = ts.get_daily(symbol='NKE', outputsize='compact')\n",
    "\n",
    "close_data = data['4. close']\n",
    "\n",
    "NKEday = close_data[1]\n",
    "\n",
    "i=1\n",
    "NKEavg = 0\n",
    "while i<100:\n",
    "    NKEavg = close_data[i] + NKEavg\n",
    "    i = i+1\n",
    "NKEavg = NKEavg/100\n",
    "\n",
    "print(\"Nike 100 day average:\", NKEavg)\n",
    "\n",
    "\n",
    "i=1\n",
    "NKEmonth = 0\n",
    "while i<30:\n",
    "    NKEmonth = close_data[i] + NKEmonth\n",
    "    i = i+1\n",
    "NKEmonth = NKEmonth/30\n",
    "\n",
    "print(\"Nike 30 day average:\", NKEmonth)\n",
    "\n",
    "if(NKEavg > NKEmonth):\n",
    "    print(\"Buy NKE\")\n",
    "elif(NKEavg < NKEmonth and NKEmonth < NKEday):\n",
    "    print(\"Sell NKE\")\n",
    "else:\n",
    "    print(\"not enough info on NKE - hold or wait\")"
   ]
  },
  {
   "cell_type": "markdown",
   "id": "fe15b004",
   "metadata": {},
   "source": [
    "### Testing GOOG"
   ]
  },
  {
   "cell_type": "code",
   "execution_count": 6,
   "id": "975c8ba3",
   "metadata": {},
   "outputs": [
    {
     "name": "stdout",
     "output_type": "stream",
     "text": [
      "Google 100 day average: 2781.2500000000014\n",
      "Google 30 day average: 2820.6370000000015\n",
      "Sell GOOG\n"
     ]
    }
   ],
   "source": [
    "data, meta_data = ts.get_daily(symbol='GOOG', outputsize='compact')\n",
    "\n",
    "close_data = data['4. close']\n",
    "\n",
    "GOOGday = close_data[1]\n",
    "\n",
    "i=1\n",
    "GOOGavg = 0\n",
    "while i<100:\n",
    "    GOOGavg = close_data[i] + GOOGavg\n",
    "    i = i+1\n",
    "GOOGavg = GOOGavg/100\n",
    "\n",
    "print(\"Google 100 day average:\", GOOGavg)\n",
    "\n",
    "\n",
    "i=1\n",
    "GOOGmonth = 0\n",
    "while i<30:\n",
    "    GOOGmonth = close_data[i] + GOOGmonth\n",
    "    i = i+1\n",
    "GOOGmonth = GOOGmonth/30\n",
    "\n",
    "print(\"Google 30 day average:\", GOOGmonth)\n",
    "\n",
    "if(GOOGavg > GOOGmonth):\n",
    "    print(\"Buy GOOG\")\n",
    "elif(GOOGavg < GOOGmonth and GOOGmonth < GOOGday):\n",
    "    print(\"Sell GOOG\")\n",
    "else:\n",
    "    print(\"not enough info on GOOG - hold or wait\")"
   ]
  },
  {
   "cell_type": "markdown",
   "id": "347c6a9f",
   "metadata": {},
   "source": [
    "## Testing Apple"
   ]
  },
  {
   "cell_type": "code",
   "execution_count": 7,
   "id": "f1259cb5",
   "metadata": {},
   "outputs": [
    {
     "name": "stdout",
     "output_type": "stream",
     "text": [
      "AAPL 100 day average: 146.54940000000005\n",
      "AAPL 30 day average: 145.85333333333338\n",
      "Buy AAPL\n"
     ]
    }
   ],
   "source": [
    "data, meta_data = ts.get_daily(symbol='AAPL', outputsize='compact')\n",
    "\n",
    "close_data = data['4. close']\n",
    "\n",
    "AAPLday = close_data[1]\n",
    "\n",
    "i=1\n",
    "AAPLavg = 0\n",
    "while i<100:\n",
    "    AAPLavg = close_data[i] + AAPLavg\n",
    "    i = i+1\n",
    "AAPLavg = AAPLavg/100\n",
    "\n",
    "print(\"AAPL 100 day average:\", AAPLavg)\n",
    "\n",
    "\n",
    "i=1\n",
    "AAPLmonth = 0\n",
    "while i<30:\n",
    "    AAPLmonth = close_data[i] + AAPLmonth\n",
    "    i = i+1\n",
    "AAPLmonth = AAPLmonth/30\n",
    "\n",
    "print(\"AAPL 30 day average:\", AAPLmonth)\n",
    "\n",
    "if(AAPLavg > AAPLmonth):\n",
    "    print(\"Buy AAPL\")\n",
    "elif(AAPLavg < AAPLmonth and AAPLmonth < AAPLday):\n",
    "    print(\"Sell AAPL\")\n",
    "else:\n",
    "    print(\"not enough info on AAPL - hold or wait\")"
   ]
  },
  {
   "cell_type": "markdown",
   "id": "517cd34e",
   "metadata": {},
   "source": [
    "## Testing Netflix\n"
   ]
  },
  {
   "cell_type": "code",
   "execution_count": 8,
   "id": "2668a979",
   "metadata": {},
   "outputs": [
    {
     "name": "stdout",
     "output_type": "stream",
     "text": [
      "NFLX 100 day average: 584.8549\n",
      "NFLX 30 day average: 641.2646666666666\n",
      "Buy NFLX\n"
     ]
    }
   ],
   "source": [
    "data, meta_data = ts.get_daily(symbol='NFLX', outputsize='compact')\n",
    "\n",
    "close_data = data['4. close']\n",
    "\n",
    "NFLXday = close_data[1]\n",
    "\n",
    "i=1\n",
    "NFLXavg = 0\n",
    "while i<100:\n",
    "    NFLXavg = close_data[i] + NFLXavg\n",
    "    i = i+1\n",
    "NFLXavg = NFLXavg/100\n",
    "print(\"NFLX 100 day average:\", NFLXavg)\n",
    "\n",
    "\n",
    "i=1\n",
    "NFLXmonth = 0\n",
    "while i<30:\n",
    "    NFLXmonth = close_data[i] + NFLXmonth\n",
    "    i = i+1\n",
    "NFLXmonth = NFLXmonth/30\n",
    "print(\"NFLX 30 day average:\", NFLXmonth)\n",
    "\n",
    "\n",
    "if(NFLXavg > NKEmonth):\n",
    "    print(\"Buy NFLX\")\n",
    "elif(NFLXavg < NFLXmonth and NFLXmonth < NFLXday):\n",
    "    print(\"Sell NFLX\")\n",
    "else:\n",
    "    print(\"not enough info on NFLX -- hold or wait\")"
   ]
  },
  {
   "cell_type": "markdown",
   "id": "99833ac1",
   "metadata": {},
   "source": [
    "## Testing AMZN"
   ]
  },
  {
   "cell_type": "code",
   "execution_count": 9,
   "id": "3d513251",
   "metadata": {},
   "outputs": [
    {
     "name": "stdout",
     "output_type": "stream",
     "text": [
      "AMZN 100 day average: 3399.0618\n",
      "AMZN 30 day average: 3346.9900000000002\n",
      "Buy AMZN\n"
     ]
    }
   ],
   "source": [
    "data, meta_data = ts.get_daily(symbol='AMZN', outputsize='compact')\n",
    "\n",
    "close_data = data['4. close']\n",
    "\n",
    "AMZNday = close_data[1]\n",
    "\n",
    "i=1\n",
    "AMZNavg = 0\n",
    "while i<100:\n",
    "    AMZNavg = close_data[i] + AMZNavg\n",
    "    i = i+1\n",
    "AMZNavg = AMZNavg/100\n",
    "print(\"AMZN 100 day average:\", AMZNavg)\n",
    "\n",
    "\n",
    "i=1\n",
    "AMZNmonth = 0\n",
    "while i<30:\n",
    "    AMZNmonth = close_data[i] + AMZNmonth\n",
    "    i = i+1\n",
    "AMZNmonth = AMZNmonth/30\n",
    "print(\"AMZN 30 day average:\", AMZNmonth)\n",
    "\n",
    "\n",
    "if(AMZNavg > AMZNmonth):\n",
    "    print(\"Buy AMZN\")\n",
    "elif(AMZNavg < AMZNmonth and AMZNmonth < AMZNday):\n",
    "    print(\"Sell AMZN\")\n",
    "else:\n",
    "    print(\"not enough info on AMZN -- hold or wait\")"
   ]
  },
  {
   "cell_type": "markdown",
   "id": "52e06403",
   "metadata": {},
   "source": [
    "## Testing WMT"
   ]
  },
  {
   "cell_type": "code",
   "execution_count": 11,
   "id": "b690e0f3",
   "metadata": {},
   "outputs": [
    {
     "name": "stdout",
     "output_type": "stream",
     "text": [
      "WMT 100 day average: 143.29369999999997\n",
      "WMT 30 day average: 141.84233333333333\n",
      "Buy WMT\n"
     ]
    }
   ],
   "source": [
    "data, meta_data = ts.get_daily(symbol='WMT', outputsize='compact')\n",
    "\n",
    "close_data = data['4. close']\n",
    "\n",
    "WMTday = close_data[1]\n",
    "\n",
    "i=1\n",
    "WMTavg = 0\n",
    "while i<100:\n",
    "    WMTavg = close_data[i] + WMTavg\n",
    "    i = i+1\n",
    "WMTavg = WMTavg/100\n",
    "print(\"WMT 100 day average:\", WMTavg)\n",
    "\n",
    "\n",
    "i=1\n",
    "WMTmonth = 0\n",
    "while i<30:\n",
    "    WMTmonth = close_data[i] + WMTmonth\n",
    "    i = i+1\n",
    "WMTmonth = WMTmonth/30\n",
    "print(\"WMT 30 day average:\", WMTmonth)\n",
    "\n",
    "\n",
    "if(WMTavg > WMTmonth):\n",
    "    print(\"Buy WMT\")\n",
    "elif(WMTavg < WMTmonth and WMTmonth < WMTday):\n",
    "    print(\"Sell WMT\")\n",
    "else:\n",
    "    print(\"not enough info on WMT -- hold or wait\")"
   ]
  },
  {
   "cell_type": "code",
   "execution_count": null,
   "id": "57b4fa34",
   "metadata": {},
   "outputs": [],
   "source": []
  }
 ],
 "metadata": {
  "kernelspec": {
   "display_name": "Python 3",
   "language": "python",
   "name": "python3"
  },
  "language_info": {
   "codemirror_mode": {
    "name": "ipython",
    "version": 3
   },
   "file_extension": ".py",
   "mimetype": "text/x-python",
   "name": "python",
   "nbconvert_exporter": "python",
   "pygments_lexer": "ipython3",
   "version": "3.8.8"
  }
 },
 "nbformat": 4,
 "nbformat_minor": 5
}
